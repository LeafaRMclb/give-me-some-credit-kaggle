{
 "cells": [
  {
   "cell_type": "code",
   "execution_count": null,
   "metadata": {
    "collapsed": true
   },
   "outputs": [],
   "source": [
    "%matplotlib inline\n",
    "\n",
    "import os\n",
    "\n",
    "import numpy as np\n",
    "import pandas as pd\n",
    "import matplotlib.pyplot as plt\n",
    "\n",
    "from sklearn.preprocessing import LabelEncoder, OneHotEncoder, StandardScaler, MinMaxScaler\n",
    "from tqdm import tqdm\n",
    "import gc; gc.enable()\n",
    "DATA_DIR = os.path.join('..', 'data')\n",
    "\n",
    "train = pd.read_csv(\"../data/cs-training.csv\")\n",
    "test = pd.read_csv(\"../data/cs-test.csv\")\n",
    "dataset= pd.concat([train, test])\n",
    "del train, test; gc.collect()"
   ]
  },
  {
   "cell_type": "code",
   "execution_count": 1,
   "metadata": {
    "collapsed": true
   },
   "outputs": [],
   "source": [
    "from sklearn.linear_model import LogisticRegression\n",
    "LogisticRegression?"
   ]
  },
  {
   "cell_type": "markdown",
   "metadata": {},
   "source": [
    "# Transform dataset"
   ]
  },
  {
   "cell_type": "code",
   "execution_count": null,
   "metadata": {
    "collapsed": true
   },
   "outputs": [],
   "source": [
    "def cleaned_dataset(dataset):\n",
    "    dataset.loc[dataset[\"age\"] <= 18, \"age\"] = dataset.age.median()\n",
    "    \n",
    "    age_working = dataset.loc[(dataset[\"age\"] >= 18) & (dataset[\"age\"] < 60)]\n",
    "    age_senior = dataset.loc[(dataset[\"age\"] >= 60)]\n",
    "\n",
    "    age_working_impute = age_working.MonthlyIncome.mean()\n",
    "    age_senior_impute = age_senior.MonthlyIncome.mean()\n",
    "\n",
    "    dataset[\"MonthlyIncome\"] = np.absolute(dataset[\"MonthlyIncome\"])\n",
    "    dataset[\"MonthlyIncome\"] = dataset[\"MonthlyIncome\"].fillna(99999)\n",
    "    dataset[\"MonthlyIncome\"] = dataset[\"MonthlyIncome\"].astype('int64')\n",
    "\n",
    "    dataset.loc[((dataset[\"age\"] >= 18) & (dataset[\"age\"] < 60)) & (dataset[\"MonthlyIncome\"] == 99999),\\\n",
    "                   \"MonthlyIncome\"] = age_working_impute\n",
    "    dataset.loc[(dataset[\"age\"] >= 60) & (dataset[\"MonthlyIncome\"] == 99999), \"MonthlyIncome\"] = age_senior_impute\n",
    "    dataset[\"NumberOfDependents\"] = np.absolute(dataset[\"NumberOfDependents\"])\n",
    "    dataset[\"NumberOfDependents\"] = dataset[\"NumberOfDependents\"].fillna(0)\n",
    "    dataset[\"NumberOfDependents\"] = dataset[\"NumberOfDependents\"].astype('int64')\n",
    "\n",
    "    dataset[\"CombinedDefaulted\"] = (dataset[\"NumberOfTimes90DaysLate\"] + dataset[\"NumberOfTime60-89DaysPastDueNotWorse\"])\\\n",
    "                                            + dataset[\"NumberOfTime30-59DaysPastDueNotWorse\"]\n",
    "\n",
    "    dataset.loc[(dataset[\"CombinedDefaulted\"] >= 1), \"CombinedDefaulted\"] = 1\n",
    "\n",
    "    dataset[\"CombinedCreditLoans\"] = dataset[\"NumberOfOpenCreditLinesAndLoans\"] + \\\n",
    "                                            dataset[\"NumberRealEstateLoansOrLines\"]\n",
    "    dataset.loc[(dataset[\"CombinedCreditLoans\"] <= 5), \"CombinedCreditLoans\"] = 0\n",
    "    dataset.loc[(dataset[\"CombinedCreditLoans\"] > 5), \"CombinedCreditLoans\"] = 1\n",
    "\n",
    "    dataset.drop([\"Unnamed: 0\",\"NumberOfOpenCreditLinesAndLoans\",\\\n",
    "                 \"NumberOfTimes90DaysLate\",\"NumberRealEstateLoansOrLines\",\\\n",
    "                  \"NumberOfTime60-89DaysPastDueNotWorse\"], axis=1, inplace=True)\n",
    "    train = dataset[~dataset.SeriousDlqin2yrs.isnull()]\n",
    "    test = dataset[dataset.SeriousDlqin2yrs.isnull()].drop(\"SeriousDlqin2yrs\", axis=1)\n",
    "    cols = set(test.columns)\n",
    "    target = train.SeriousDlqin2yrs\n",
    "    numeric = train.select_dtypes(include=['int64', 'float64'])\n",
    "    numeric.drop(\"SeriousDlqin2yrs\",axis=1, inplace=True)\n",
    "    numeric_fill = numeric.mean()\n",
    "    \n",
    "    numeric = numeric.fillna(numeric_fill)\n",
    "    \n",
    "    train[numeric.columns] = numeric\n",
    "    test[numeric.columns] = test[numeric.columns].fillna(numeric_fill)\n",
    "\n",
    "    sc = StandardScaler()\n",
    "\n",
    "\n",
    "    train = pd.concat(\n",
    "        [train, pd.DataFrame(\n",
    "            sc.fit_transform(numeric),\n",
    "            columns=['sc_{}'.format(i) for i in numeric.columns],\n",
    "            index=train.index\n",
    "        )], axis=1)\n",
    "    \n",
    "    test = pd.concat(\n",
    "        [test, pd.DataFrame(\n",
    "            sc.transform(test[numeric.columns].fillna(numeric_fill)),\n",
    "            columns=['sc_{}'.format(i) for i in numeric.columns],\n",
    "            index=test.index\n",
    "        )], axis=1)\n",
    "    for d in [train,test]:\n",
    "        d.drop(cols, axis=1, inplace=True)\n",
    "    train[\"SeriousDlqin2yrs\"] = target\n",
    "    del dataset; gc.collect()\n",
    "    return train, test"
   ]
  },
  {
   "cell_type": "code",
   "execution_count": null,
   "metadata": {
    "collapsed": true,
    "scrolled": true
   },
   "outputs": [],
   "source": [
    "train, test = cleaned_dataset(dataset)"
   ]
  },
  {
   "cell_type": "code",
   "execution_count": null,
   "metadata": {
    "collapsed": true
   },
   "outputs": [],
   "source": [
    "train.to_csv(os.path.join(DATA_DIR, 'transformed-train.csv'))\n",
    "test.to_csv(os.path.join(DATA_DIR, 'transformed-test.csv'))"
   ]
  }
 ],
 "metadata": {
  "kernelspec": {
   "display_name": "Python 3",
   "language": "python",
   "name": "python3"
  },
  "language_info": {
   "codemirror_mode": {
    "name": "ipython",
    "version": 3
   },
   "file_extension": ".py",
   "mimetype": "text/x-python",
   "name": "python",
   "nbconvert_exporter": "python",
   "pygments_lexer": "ipython3",
   "version": "3.6.2"
  }
 },
 "nbformat": 4,
 "nbformat_minor": 2
}
